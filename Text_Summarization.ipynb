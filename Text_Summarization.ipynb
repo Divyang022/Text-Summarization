{
  "nbformat": 4,
  "nbformat_minor": 0,
  "metadata": {
    "colab": {
      "provenance": []
    },
    "kernelspec": {
      "name": "python3",
      "display_name": "Python 3"
    },
    "language_info": {
      "name": "python"
    }
  },
  "cells": [
    {
      "cell_type": "code",
      "execution_count": null,
      "metadata": {
        "id": "V48LHcb4Yw8q"
      },
      "outputs": [],
      "source": [
        "import numpy as np\n",
        "import pandas as pd\n",
        "import nltk\n",
        "import re\n",
        "from nltk.tokenize import sent_tokenize\n",
        "from nltk.corpus import stopwords\n",
        "from gensim.models import Word2Vec\n",
        "from scipy import spatial\n",
        "import networkx as nx"
      ]
    },
    {
      "cell_type": "code",
      "source": [
        "text='''\n",
        "Ajinkya Rahane's batting masterclass followed by Ravichandran Ashwin's bowling heroics sealed Team India's massive 337-run win over South Africa in the fourth and final Test of the bilateral series at Delhi in 2015. Local hero Virat Kohli, who was at the helm, had described Team India's famous win as the most special of the bilateral series between the two nations.\n",
        "\n",
        "Just like how India humbled Australia in the Border-Gavaskar Trophy 2023, Kohli and Co. wrapped up the Test match against South Africa within three days at the time. In the thrilling contest at Arun Jaitely Stadium, Kohli's men had to grind hard for each wicket in the 2nd innings of the Test match. Batting icons AB de Villiers and Hasim Amla had epitomised South Africa's resistance at Delhi.\n",
        "\n",
        "For former Indian fielding coach R Sridhar, the Delhi Test match between India and South Africa served him with one of the toughest lessons of his coaching career. Taking a trip down memory lane in his recently-published book 'Coaching Beyond: My Days with the Indian Cricket Team', the former Indian fielding coach revealed that he wanted to walk away from his job after the 2015 Test match in Delhi.\n",
        "\n",
        "“I learnt some harsh lessons reasonably early on in my stint with the Indian team. One of the most impactful ones came at the Kotla, in the final Test of the 2015 series against South Africa. We already enjoyed a winning 2-0 lead, and by tea on day five, it seemed as if South Africa might succeed in preventing us from scoring a third successive victory. With AB putting on a stonewalling act for the ages and receiving support from Hashim Amla and Faf du Plessis on a dead track, South Africa were only five down at the final interval of the series. We were going to give it one final push on a gloomy December evening, but we were also reconciled to a stalemate, if it came to that,” Sridhar recalled.\n",
        "'''"
      ],
      "metadata": {
        "id": "puGxxR3ZZAjd"
      },
      "execution_count": null,
      "outputs": []
    },
    {
      "cell_type": "code",
      "source": [
        "nltk.download('punkt')\n",
        "sentences=sent_tokenize(text)"
      ],
      "metadata": {
        "colab": {
          "base_uri": "https://localhost:8080/"
        },
        "id": "oq2ckleEZDAu",
        "outputId": "ce127b30-13f9-46fc-b217-d100c6d7c82f"
      },
      "execution_count": null,
      "outputs": [
        {
          "output_type": "stream",
          "name": "stderr",
          "text": [
            "[nltk_data] Downloading package punkt to /root/nltk_data...\n",
            "[nltk_data]   Package punkt is already up-to-date!\n"
          ]
        }
      ]
    },
    {
      "cell_type": "code",
      "source": [
        "nltk.download('stopwords')\n",
        "\n",
        "sentences_clean=[re.sub(r'[^\\w\\s]','',sentence.lower()) for sentence in sentences]\n",
        "stop_words = stopwords.words('english')\n",
        "sentence_tokens=[[words for words in sentence.split(' ') if words not in stop_words] for sentence in sentences_clean]"
      ],
      "metadata": {
        "colab": {
          "base_uri": "https://localhost:8080/"
        },
        "id": "pxH693dCZDou",
        "outputId": "02aeca2b-eb9c-4588-b202-b489a6a59b8c"
      },
      "execution_count": null,
      "outputs": [
        {
          "output_type": "stream",
          "name": "stderr",
          "text": [
            "[nltk_data] Downloading package stopwords to /root/nltk_data...\n",
            "[nltk_data]   Package stopwords is already up-to-date!\n"
          ]
        }
      ]
    },
    {
      "cell_type": "code",
      "source": [
        "w2v = Word2Vec(sentence_tokens, size=1, min_count=1, iter=1000)\n",
        "sentence_embeddings = [[w2v.wv[word][0] for word in words] for words in sentence_tokens]\n",
        "max_len = max([len(tokens) for tokens in sentence_tokens])\n",
        "sentence_embeddings = [np.pad(embedding, (0, max_len - len(embedding)), 'constant') for embedding in sentence_embeddings]"
      ],
      "metadata": {
        "colab": {
          "base_uri": "https://localhost:8080/"
        },
        "id": "UG1VRYBVZFYD",
        "outputId": "c12f627d-3ea6-40da-b7d2-e06c73000116"
      },
      "execution_count": null,
      "outputs": [
        {
          "output_type": "stream",
          "name": "stderr",
          "text": [
            "WARNING:gensim.models.base_any2vec:consider setting layer size to a multiple of 4 for greater performance\n"
          ]
        }
      ]
    },
    {
      "cell_type": "code",
      "source": [
        "similarity_matrix = np.zeros([len(sentence_tokens), len(sentence_tokens)])\n",
        "for i,row_embedding in enumerate(sentence_embeddings):\n",
        "    for j,column_embedding in enumerate(sentence_embeddings):\n",
        "        similarity_matrix[i][j]=1-spatial.distance.cosine(row_embedding,column_embedding)"
      ],
      "metadata": {
        "id": "_p8WhgIuZItX"
      },
      "execution_count": null,
      "outputs": []
    },
    {
      "cell_type": "code",
      "source": [
        "!pip install 'networkx<2.7' \n",
        "nx_graph = nx.from_numpy_array(similarity_matrix)\n",
        "scores = nx.pagerank(nx_graph)"
      ],
      "metadata": {
        "colab": {
          "base_uri": "https://localhost:8080/"
        },
        "id": "a9Gg6L75ZKvm",
        "outputId": "74feec6a-1f24-4687-b8ff-5b00508f0c0f"
      },
      "execution_count": null,
      "outputs": [
        {
          "output_type": "stream",
          "name": "stdout",
          "text": [
            "Looking in indexes: https://pypi.org/simple, https://us-python.pkg.dev/colab-wheels/public/simple/\n",
            "Requirement already satisfied: networkx<2.7 in /usr/local/lib/python3.8/dist-packages (2.6.3)\n"
          ]
        }
      ]
    },
    {
      "cell_type": "code",
      "source": [
        "top_sentence={sentence:scores[index] for index,sentence in enumerate(sentences)}\n",
        "top=dict(sorted(top_sentence.items(), key=lambda x: x[1], reverse=True)[:4])"
      ],
      "metadata": {
        "id": "xaPVUZbEZMey"
      },
      "execution_count": null,
      "outputs": []
    },
    {
      "cell_type": "code",
      "source": [
        "for sent in sentences:\n",
        "    if sent in top.keys():\n",
        "        print(sent)"
      ],
      "metadata": {
        "colab": {
          "base_uri": "https://localhost:8080/"
        },
        "id": "ona4CMQvZOWD",
        "outputId": "95573541-0876-4e6d-d4f9-61153e7d9870"
      },
      "execution_count": null,
      "outputs": [
        {
          "output_type": "stream",
          "name": "stdout",
          "text": [
            "Local hero Virat Kohli, who was at the helm, had described Team India's famous win as the most special of the bilateral series between the two nations.\n",
            "Just like how India humbled Australia in the Border-Gavaskar Trophy 2023, Kohli and Co. wrapped up the Test match against South Africa within three days at the time.\n",
            "In the thrilling contest at Arun Jaitely Stadium, Kohli's men had to grind hard for each wicket in the 2nd innings of the Test match.\n",
            "With AB putting on a stonewalling act for the ages and receiving support from Hashim Amla and Faf du Plessis on a dead track, South Africa were only five down at the final interval of the series.\n"
          ]
        }
      ]
    },
    {
      "cell_type": "code",
      "source": [
        "!pip install rouge\n",
        "\n",
        "from rouge import Rouge \n",
        "\n",
        "rouge = Rouge()\n",
        "\n",
        "reference_summary = '''\n",
        "Ajinkya Rahane's batting masterclass followed by Ravichandran Ashwin's bowling heroics sealed Team India's massive 337-run win over South Africa in the fourth and final Test of the bilateral series at Delhi in 2015. Local hero Virat Kohli, who was at the helm, had described Team India's famous win as the most special of the bilateral series between the two nations.\n",
        "\n",
        "Just like how India humbled Australia in the Border-Gavaskar Trophy 2023, Kohli and Co. wrapped up the Test match against South Africa within three days at the time. In the thrilling contest at Arun Jaitely Stadium, Kohli's men had to grind hard for each wicket in the 2nd innings of the Test match. Batting icons AB de Villiers and Hasim Amla had epitomised South Africa's resistance at Delhi.\n",
        "\n",
        "For former Indian fielding coach R Sridhar, the Delhi Test match between India and South Africa served him with one of the toughest lessons of his coaching career. Taking a trip down memory lane in his recently-published book 'Coaching Beyond: My Days with the Indian Cricket Team', the former Indian fielding coach revealed that he wanted to walk away from his job after the 2015 Test match in Delhi.\n",
        "\n",
        "“I learnt some harsh lessons reasonably early on in my stint with the Indian team. One of the most impactful ones came at the Kotla, in the final Test of the 2015 series against South Africa. We already enjoyed a winning 2-0 lead, and by tea on day five, it seemed as if South Africa might succeed in preventing us from scoring a third successive victory. With AB putting on a stonewalling act for the ages and receiving support from Hashim Amla and Faf du Plessis on a dead track, South Africa were only five down at the final interval of the series. We were going to give it one final push on a gloomy December evening, but we were also reconciled to a stalemate, if it came to that,” Sridhar recalled.\n",
        "'''\n",
        "\n",
        "generated_summary = '''\n",
        "Local hero Virat Kohli, who was at the helm, had described Team India's famous win as the most special of the bilateral series between the two nations.\n",
        "Just like how India humbled Australia in the Border-Gavaskar Trophy 2023, Kohli and Co. wrapped up the Test match against South Africa within three days at the time.\n",
        "In the thrilling contest at Arun Jaitely Stadium, Kohli's men had to grind hard for each wicket in the 2nd innings of the Test match.\n",
        "With AB putting on a stonewalling act for the ages and receiving support from Hashim Amla and Faf du Plessis on a dead track, South Africa were only five down at the final interval of the series\n",
        "'''\n",
        "\n",
        "scores = rouge.get_scores(generated_summary, reference_summary)\n",
        "\n",
        "print(\"ROUGE-1: \", scores[0]['rouge-1']['f'])\n",
        "print(\"ROUGE-2: \", scores[0]['rouge-2']['f'])\n",
        "print(\"ROUGE-L: \", scores[0]['rouge-l']['f'])\n"
      ],
      "metadata": {
        "colab": {
          "base_uri": "https://localhost:8080/"
        },
        "id": "Ehrrd-_ymBTR",
        "outputId": "71627266-8db6-48c6-9d99-305da5a90239"
      },
      "execution_count": null,
      "outputs": [
        {
          "output_type": "stream",
          "name": "stdout",
          "text": [
            "Looking in indexes: https://pypi.org/simple, https://us-python.pkg.dev/colab-wheels/public/simple/\n",
            "Requirement already satisfied: rouge in /usr/local/lib/python3.8/dist-packages (1.0.1)\n",
            "Requirement already satisfied: six in /usr/local/lib/python3.8/dist-packages (from rouge) (1.15.0)\n",
            "ROUGE-1:  0.6153846111242604\n",
            "ROUGE-2:  0.5326633126515745\n",
            "ROUGE-L:  0.6153846111242604\n"
          ]
        }
      ]
    }
  ]
}